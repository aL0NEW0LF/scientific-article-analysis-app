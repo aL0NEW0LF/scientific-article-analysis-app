{
 "cells": [
  {
   "cell_type": "code",
   "execution_count": 3,
   "metadata": {},
   "outputs": [],
   "source": [
    "import requests\n",
    "from bs4 import BeautifulSoup\n",
    "import re\n",
    "import json"
   ]
  },
  {
   "cell_type": "code",
   "execution_count": 5,
   "metadata": {},
   "outputs": [],
   "source": [
    "urls = [\n",
    "    'https://fstt.ac.ma/Portail2023/mathematiques-informatique-physique-chimie/',\n",
    "    'https://fstt.ac.ma/Portail2023/mathematique-informatique-physique/',\n",
    "    'https://fstt.ac.ma/Portail2023/genie-electrique-genie-mecanique/',\n",
    "    'https://fstt.ac.ma/Portail2023/biologie-chimie-geologie/',\n",
    "    'https://fstt.ac.ma/Portail2023/lst-analytique-des-donnees/',\n",
    "    'https://fstt.ac.ma/Portail2023/lst-biotechnologies/',\n",
    "    'https://fstt.ac.ma/Portail2023/lst-design-industriel-et-productique/',\n",
    "    'https://fstt.ac.ma/Portail2023/lst-energies-renouvelables/',\n",
    "    'https://fstt.ac.ma/Portail2023/lst-genie-civil/',\n",
    "    'https://fstt.ac.ma/Portail2023/lst-8-genie-des-procedes/',\n",
    "    'https://fstt.ac.ma/Portail2023/lst-genie-electrique-option-genieelectrique-systeme-industriel/',\n",
    "    'https://fstt.ac.ma/Portail2023/lst-genie-industriel/',\n",
    "    'https://fstt.ac.ma/Portail2023/lst-genie-informatique/',\n",
    "    'https://fstt.ac.ma/Portail2023/lst-geosciences-appliquees/',\n",
    "    'https://fstt.ac.ma/Portail2023/lst-ingenierie-de-developpement-dapplications-informatiques/',\n",
    "    'https://fstt.ac.ma/Portail2023/lst-ingenierie-statistique/',\n",
    "    'https://fstt.ac.ma/Portail2023/lst-mathematiques-et-applications/',\n",
    "    'https://fstt.ac.ma/Portail2023/lst-mathematiques-et-informatique-decisionnelles/',\n",
    "    'https://fstt.ac.ma/Portail2023/lst-rrn/',\n",
    "    'https://fstt.ac.ma/Portail2023/lst-statistique-et-science-des-donnees/',\n",
    "    'https://fstt.ac.ma/Portail2023/lst-techniques-danalyses-chimiques/',\n",
    "    'https://fstt.ac.ma/Portail2023/mst-analyse-appliquee-etingenierie-statistique/',\n",
    "    'https://fstt.ac.ma/Portail2023/mst-bases-cellulaires-etmoleculaires-en-biotechnologie/',\n",
    "    'https://fstt.ac.ma/Portail2023/mst-environnement-aquacultureet-developpement-durable/',\n",
    "    'https://fstt.ac.ma/Portail2023/mst-georessources-energetiques-et-reservoirs/',\n",
    "    'https://fstt.ac.ma/Portail2023/mst-genie-civil/',\n",
    "    'https://fstt.ac.ma/Portail2023/mst-genie-des-materiaux-pour-plasturgie-et-metallurgie/',\n",
    "    'https://fstt.ac.ma/Portail2023/mst-genie-energetique/',\n",
    "    'https://fstt.ac.ma/Portail2023/mst-ingenierie-environnementale-changement-climatique-et-developpement-durable/',\n",
    "    'https://fstt.ac.ma/Portail2023/mst-intelligence-artificielle-et-sciences-de-donnees/',\n",
    "    'https://fstt.ac.ma/Portail2023/mst-mobiquite-et-big-data/',\n",
    "    'https://fstt.ac.ma/Portail2023/mst-modelisation-mathematique-et-science-de-donnees/',\n",
    "    'https://fstt.ac.ma/Portail2023/mst-sciences-agroalimentaires/',\n",
    "    'https://fstt.ac.ma/Portail2023/mst-sciences-delenvironnement/',\n",
    "    'https://fstt.ac.ma/Portail2023/mst-sciences-du-littoralapproche-pluridisciplinaire/',\n",
    "    'https://fstt.ac.ma/Portail2023/mst-securite-it-et-big-data/',\n",
    "    'https://fstt.ac.ma/Portail2023/mst-systemes-informatiqueset-mobiles/',\n",
    "    'https://fstt.ac.ma/Portail2023/genie-electrique-et-managementindustriel/',\n",
    "    'https://fstt.ac.ma/Portail2023/di-genie-industriel/',\n",
    "    'https://fstt.ac.ma/Portail2023/di-geoinformation/',\n",
    "    'https://fstt.ac.ma/Portail2023/di-logiciels-et-systemes-intelligents/',\n",
    "    ]\n",
    "headers = {'User-Agent': 'Mozilla/5.0 (Windows NT 10.0; Win64; x64) AppleWebKit/537.36 (KHTML, like Gecko) Chrome/123.0.0.0 Safari/537.36 Edg/123.0.0.0'}"
   ]
  },
  {
   "cell_type": "code",
   "execution_count": 69,
   "metadata": {},
   "outputs": [
    {
     "name": "stderr",
     "output_type": "stream",
     "text": [
      "c:\\Users\\ah-ma\\Desktop\\Samashi\\Studying\\Master\\S2\\SMA & NLP\\NLP - Pr Lotfi El Aachak\\Project\\FSTT-LLM-Chat-Bot\\.venv\\lib\\site-packages\\bs4\\__init__.py:228: UserWarning: You provided Unicode markup but also provided a value for from_encoding. Your from_encoding will be ignored.\n",
      "  warnings.warn(\"You provided Unicode markup but also provided a value for from_encoding. Your from_encoding will be ignored.\")\n"
     ]
    }
   ],
   "source": [
    "result = requests.get(urls[0], headers=headers)\n",
    "doc = BeautifulSoup(result.text, 'html.parser', from_encoding='utf-8')\n",
    "content_div = doc.find_all(name='div',attrs={'class':'clearfix eael-tab-content-item inactive'})\n",
    "formation_name = doc.find_all(name='h2',attrs={'class':'elementor-heading-title elementor-size-default'})[0].text\n",
    "objectif = content_div[0].text\n",
    "semesters = [semster.text for semster in content_div[1].find_all(name='th')]\n",
    "module = [[item.strip() for item in module.text.split('•') if item != ''] for module in content_div[1].find_all(name='td')]\n",
    "competence = content_div[2].text\n",
    "email_coord = re.findall(r'\\b[A-Za-z0-9._%+-]+@[A-Za-z0-9.-]+\\.[A-Z|a-z]{2,7}\\b',content_div[3].text)[0]\n",
    "name_coord = re.findall(r\"Coordinnateur pédagogique :\\s*(Pr\\.\\w+ \\w+)\",content_div[3].text)[0]"
   ]
  },
  {
   "cell_type": "code",
   "execution_count": 70,
   "metadata": {},
   "outputs": [],
   "source": [
    "diction = \\\n",
    "{\n",
    "    'DEUST': [{\n",
    "        'formation': formation_name,\n",
    "        'objectif': objectif,\n",
    "        'semesters': {semesters[i]: {f'Module {j+1}': module[i][j] for j in range(len(module[i]))} for i in range(len(semesters))},\n",
    "        'competence': competence,\n",
    "        'email_coord': email_coord,\n",
    "        'name_coord': name_coord\n",
    "    }]\n",
    "}"
   ]
  },
  {
   "cell_type": "code",
   "execution_count": 71,
   "metadata": {},
   "outputs": [
    {
     "data": {
      "text/plain": [
       "{'DEUST': {'formation': 'MATHÉMATIQUES-INFORMATIQUE-PHYSIQUE-CHIMIE',\n",
       "  'objectif': '\\nL’objectif du tronc commun MIPC est de donner à l’étudiant une base solide dans les matières scientifiques (physique, chimie et mathématiques etc…) qui vont lui permettre de continuer ses études dans les semestres S5 et S6 des cycles licences qui émanent de ce parcours tout en gardant la possibilité de se réorienter vers d’autres troncs communs comme MIP et GE/GM.\\nÉgalement, ce tronc commun permet à l’étudiant de postuler à des concours d’accès aux cycles ingénieurs dispensés dans notre établissement et aussi à des concours nationaux ou internationaux des écoles d’ingénieurs.\\n',\n",
       "  'semesters': {'Semestre 1': {'Module0': 'Circuits électriques et électroniques',\n",
       "    'Module1': 'Electricité',\n",
       "    'Module2': 'Analyse 1 : Fonction d’une variable réelle',\n",
       "    'Module3': 'Algèbre 1 : Polynômes et espaces vectoriels',\n",
       "    'Module4': 'Algorithmique et Programmation 1',\n",
       "    'Module5': 'Langues et Communication -LC1'},\n",
       "   'Semestre 2': {'Module0': 'Thermodynamique',\n",
       "    'Module1': 'Mécanique du point et Optique géométrique',\n",
       "    'Module2': 'Analyse 2 : Calcul intégral et équations différentielles',\n",
       "    'Module3': 'Algèbre 2 : Réduction des endomorphismes et formes quadratiques',\n",
       "    'Module4': 'Structure de la matière',\n",
       "    'Module5': 'Langues et Communication –LC2'},\n",
       "   'Semestre 3': {'Module0': 'Électromagnétisme',\n",
       "    'Module1': 'Analyse 3 : Fonctions de plusieurs variables et calcul des intégrales multiples',\n",
       "    'Module2': 'Statistique descriptive/probabilités',\n",
       "    'Module3': 'Algorithmique et Programmation 2',\n",
       "    'Module4': 'Réactivité chimique',\n",
       "    'Module5': 'LC3'},\n",
       "   'Semestre 4': {'Module0': 'Mécanique des Solides',\n",
       "    'Module1': 'Mécanique quantique et Relativité',\n",
       "    'Module2': 'Analyse 4: Séries de fonctions et calcul des résidus',\n",
       "    'Module3': 'Structure de données en C',\n",
       "    'Module4': 'Chimie organique 1',\n",
       "    'Module5': 'Chimie minérale 1'}},\n",
       "  'competence': '\\n',\n",
       "  'email_coord': 'mjbilou@uae.ac.ma',\n",
       "  'name_coord': 'Pr.Jbilou Mohammed'}}"
      ]
     },
     "execution_count": 71,
     "metadata": {},
     "output_type": "execute_result"
    }
   ],
   "source": [
    "diction"
   ]
  },
  {
   "cell_type": "code",
   "execution_count": 33,
   "metadata": {},
   "outputs": [
    {
     "data": {
      "text/plain": [
       "'\\nL’objectif du tronc commun MIPC est de donner à l’étudiant une base solide dans les matières scientifiques (physique, chimie et mathématiques etc…) qui vont lui permettre de continuer ses études dans les semestres S5 et S6 des cycles licences qui émanent de ce parcours tout en gardant la possibilité de se réorienter vers d’autres troncs communs comme MIP et GE/GM.\\nÉgalement, ce tronc commun permet à l’étudiant de postuler à des concours d’accès aux cycles ingénieurs dispensés dans notre établissement et aussi à des concours nationaux ou internationaux des écoles d’ingénieurs.\\n'"
      ]
     },
     "execution_count": 33,
     "metadata": {},
     "output_type": "execute_result"
    }
   ],
   "source": [
    "content_div[0].text"
   ]
  },
  {
   "cell_type": "code",
   "execution_count": 55,
   "metadata": {},
   "outputs": [
    {
     "data": {
      "text/plain": [
       "[<th>Semestre 1</th>,\n",
       " <th>Semestre 2</th>,\n",
       " <th>Semestre 3</th>,\n",
       " <th>Semestre 4</th>]"
      ]
     },
     "execution_count": 55,
     "metadata": {},
     "output_type": "execute_result"
    }
   ],
   "source": [
    "content_div[1].find_all(name='th')"
   ]
  },
  {
   "cell_type": "code",
   "execution_count": 62,
   "metadata": {},
   "outputs": [
    {
     "data": {
      "text/plain": [
       "['',\n",
       " ' Circuits électriques et électroniques',\n",
       " ' Electricité',\n",
       " ' Analyse 1 : Fonction d’une variable réelle',\n",
       " ' Algèbre 1 : Polynômes et espaces vectoriels',\n",
       " ' Algorithmique et Programmation 1',\n",
       " ' Langues et Communication -LC1']"
      ]
     },
     "execution_count": 62,
     "metadata": {},
     "output_type": "execute_result"
    }
   ],
   "source": [
    "content_div[1].find_all(name='td')[0].text.split('•')"
   ]
  },
  {
   "cell_type": "code",
   "execution_count": 38,
   "metadata": {},
   "outputs": [
    {
     "data": {
      "text/plain": [
       "'\\n'"
      ]
     },
     "execution_count": 38,
     "metadata": {},
     "output_type": "execute_result"
    }
   ],
   "source": [
    "content_div[2].text"
   ]
  },
  {
   "cell_type": "code",
   "execution_count": 39,
   "metadata": {},
   "outputs": [
    {
     "data": {
      "text/plain": [
       "'\\nCoordinnateur pédagogique : Pr.Jbilou Mohammed\\xa0 \\xa0 \\xa0 \\xa0 \\xa0 \\xa0 \\xa0:\\xa0 mjbilou@uae.ac.ma\\t\\t\\t\\t                            '"
      ]
     },
     "execution_count": 39,
     "metadata": {},
     "output_type": "execute_result"
    }
   ],
   "source": [
    "content_div[3].text"
   ]
  },
  {
   "cell_type": "code",
   "execution_count": 63,
   "metadata": {},
   "outputs": [
    {
     "name": "stdout",
     "output_type": "stream",
     "text": [
      "mjbilou@uae.ac.ma\n"
     ]
    }
   ],
   "source": [
    "match = re.findall(r'\\b[A-Za-z0-9._%+-]+@[A-Za-z0-9.-]+\\.[A-Z|a-z]{2,7}\\b',content_div[3].text)\n",
    "print(re.findall(r'\\b[A-Za-z0-9._%+-]+@[A-Za-z0-9.-]+\\.[A-Z|a-z]{2,7}\\b',content_div[3].text)[0])"
   ]
  },
  {
   "cell_type": "code",
   "execution_count": 50,
   "metadata": {},
   "outputs": [
    {
     "data": {
      "text/plain": [
       "'Pr.Jbilou Mohammed'"
      ]
     },
     "execution_count": 50,
     "metadata": {},
     "output_type": "execute_result"
    }
   ],
   "source": [
    "name = re.findall(r\"Coordinnateur pédagogique :\\s*(Pr\\.\\w+ \\w+)\",content_div[3].text)\n",
    "name[0]"
   ]
  },
  {
   "cell_type": "code",
   "execution_count": 34,
   "metadata": {},
   "outputs": [
    {
     "data": {
      "text/plain": [
       "'MATHÉMATIQUES-INFORMATIQUE-PHYSIQUE-CHIMIE'"
      ]
     },
     "execution_count": 34,
     "metadata": {},
     "output_type": "execute_result"
    }
   ],
   "source": [
    "formation_name[0].text"
   ]
  },
  {
   "cell_type": "markdown",
   "metadata": {},
   "source": [
    "## Tronc Commun"
   ]
  },
  {
   "cell_type": "code",
   "execution_count": 5,
   "metadata": {},
   "outputs": [
    {
     "name": "stderr",
     "output_type": "stream",
     "text": [
      "c:\\Users\\ah-ma\\Desktop\\Samashi\\Studying\\Master\\S2\\SMA & NLP\\NLP - Pr Lotfi El Aachak\\Project\\FSTT-LLM-Chat-Bot\\.venv\\lib\\site-packages\\bs4\\__init__.py:228: UserWarning: You provided Unicode markup but also provided a value for from_encoding. Your from_encoding will be ignored.\n",
      "  warnings.warn(\"You provided Unicode markup but also provided a value for from_encoding. Your from_encoding will be ignored.\")\n"
     ]
    },
    {
     "name": "stdout",
     "output_type": "stream",
     "text": [
      "MATHÉMATIQUES-INFORMATIQUE-PHYSIQUE-CHIMIE\n",
      "MATHÉMATIQUE-INFORMATIQUE-PHYSIQUE\n",
      "GÉNIE ELECTRIQUE – GÉNIE MÉCANIQUE\n",
      "BIOLOGIE-CHIMIE-GEOLOGIE\n"
     ]
    }
   ],
   "source": [
    "dicts_list = [] \n",
    "for i, url in enumerate(urls[:4]):\n",
    "    result = requests.get(url, headers=headers)\n",
    "    doc = BeautifulSoup(result.text, 'html.parser', from_encoding='utf-8')\n",
    "    content_div = doc.find_all(name='div',attrs={'class':'clearfix eael-tab-content-item inactive'})\n",
    "    formation_name = doc.find_all(name='h2',attrs={'class':'elementor-heading-title elementor-size-default'})[0].text\n",
    "    print(formation_name)\n",
    "    objectif = content_div[0].text\n",
    "    semesters = [semster.text for semster in content_div[1].find_all(name='th')]\n",
    "    module = [[item.strip() for item in module.text.split('•') if item != ''] for module in content_div[1].find_all(name='td')]\n",
    "    competence = content_div[2].text\n",
    "    email_coord = re.findall(r'\\b[A-Za-z0-9._%+-]+@[A-Za-z0-9.-]+\\.[A-Z|a-z]{2,7}\\b',content_div[3].text)[0]\n",
    "    if i != 3:\n",
    "        name_coord = re.findall(r\"Coordinnateur pédagogique\\s*:\\s*(Pr\\.\\w+ \\w+)\",content_div[3].text)[0]\n",
    "    else:\n",
    "        name_coord = re.findall(r\"Coordinnateur pédagogique\\s*:\\s*(Pr\\.\\w+ \\w+ \\w+)\",content_div[3].text)[0]\n",
    "    dicts_list.append({\n",
    "        'formation': formation_name,\n",
    "        'objectif': objectif,\n",
    "        'semesters': {semesters[i]: {f'Module {j+1}': module[i][j] for j in range(len(module[i]))} for i in range(len(semesters))},\n",
    "        'competence': competence,\n",
    "        'email_coord': email_coord,\n",
    "        'name_coord': name_coord\n",
    "    })\n",
    "deust_json = {'DEUST': dicts_list}\n",
    "with open('deust.json', 'w', encoding='utf-8') as f:\n",
    "    json.dump(deust_json, f,ensure_ascii=False, indent=4)"
   ]
  },
  {
   "cell_type": "markdown",
   "metadata": {},
   "source": [
    "## Licence"
   ]
  },
  {
   "cell_type": "code",
   "execution_count": 92,
   "metadata": {},
   "outputs": [
    {
     "data": {
      "text/plain": [
       "'\\nCoordinnateur pédagogique  : Pr.Chouaibi Nour Eddine\\n\\n\\xa0:\\xa0 n.chouaibi@uae.ac.ma\\t\\t\\t\\t                            '"
      ]
     },
     "execution_count": 92,
     "metadata": {},
     "output_type": "execute_result"
    }
   ],
   "source": [
    "content_div[3].text"
   ]
  },
  {
   "cell_type": "code",
   "execution_count": 7,
   "metadata": {},
   "outputs": [
    {
     "data": {
      "text/plain": [
       "['https://fstt.ac.ma/Portail2023/lst-analytique-des-donnees/',\n",
       " 'https://fstt.ac.ma/Portail2023/lst-biotechnologies/',\n",
       " 'https://fstt.ac.ma/Portail2023/lst-design-industriel-et-productique/',\n",
       " 'https://fstt.ac.ma/Portail2023/lst-energies-renouvelables/',\n",
       " 'https://fstt.ac.ma/Portail2023/lst-genie-civil/',\n",
       " 'https://fstt.ac.ma/Portail2023/lst-8-genie-des-procedes/',\n",
       " 'https://fstt.ac.ma/Portail2023/lst-genie-electrique-option-genieelectrique-systeme-industriel/',\n",
       " 'https://fstt.ac.ma/Portail2023/lst-genie-industriel/',\n",
       " 'https://fstt.ac.ma/Portail2023/lst-genie-informatique/',\n",
       " 'https://fstt.ac.ma/Portail2023/lst-geosciences-appliquees/',\n",
       " 'https://fstt.ac.ma/Portail2023/lst-ingenierie-de-developpement-dapplications-informatiques/',\n",
       " 'https://fstt.ac.ma/Portail2023/lst-ingenierie-statistique/',\n",
       " 'https://fstt.ac.ma/Portail2023/lst-mathematiques-et-applications/',\n",
       " 'https://fstt.ac.ma/Portail2023/lst-mathematiques-et-informatique-decisionnelles/',\n",
       " 'https://fstt.ac.ma/Portail2023/lst-rrn/',\n",
       " 'https://fstt.ac.ma/Portail2023/lst-statistique-et-science-des-donnees/',\n",
       " 'https://fstt.ac.ma/Portail2023/lst-techniques-danalyses-chimiques/']"
      ]
     },
     "execution_count": 7,
     "metadata": {},
     "output_type": "execute_result"
    }
   ],
   "source": [
    "urls[4:21]"
   ]
  },
  {
   "cell_type": "code",
   "execution_count": 14,
   "metadata": {},
   "outputs": [
    {
     "name": "stderr",
     "output_type": "stream",
     "text": [
      "c:\\Users\\ah-ma\\Desktop\\Samashi\\Studying\\Master\\S2\\SMA & NLP\\NLP - Pr Lotfi El Aachak\\Project\\FSTT-LLM-Chat-Bot\\.venv\\lib\\site-packages\\bs4\\__init__.py:228: UserWarning: You provided Unicode markup but also provided a value for from_encoding. Your from_encoding will be ignored.\n",
      "  warnings.warn(\"You provided Unicode markup but also provided a value for from_encoding. Your from_encoding will be ignored.\")\n"
     ]
    },
    {
     "name": "stdout",
     "output_type": "stream",
     "text": [
      "LST : Analytique des données\n",
      "\n",
      "Coordinnateur : Pr.BAIDA Ouafae             :  wbaida@uae.ac.ma\t\t\t\t                            \n",
      "LST: Biotechnologies\n",
      "\n",
      "Coordinnateur pédagogique : Pr.Bouayad Noureddin\n",
      "\n",
      " :  nbouayad@uae.ac.ma\t\t\t\t                            \n",
      "LST: Design Industriel et Productique\n",
      "\n",
      "Coordinnateur pédagogique : Pr.Elmesbahi Abdelilah\n",
      "\n",
      " :  a.mesbahi@uae.ac.ma\t\t\t\t                            \n",
      "LST: Energies Renouvelables\n",
      "\n",
      "Coordinnateur pédagogique: Pr.Ahachad Mohammed\n",
      "\n",
      " :  mahachad@uae.ac.ma\t\t\t\t                            \n",
      "LST: Génie Civil\n",
      "\n",
      "Coordinnateur pédagogique : Pr.MABSSOUT Mokhtar\t\n",
      "\n",
      " :  mmabssout@uae.ac.ma\t\t\t\t                            \n",
      "LST 8 : Génie des Procédés\n",
      "\n",
      "Coordinnateur pédagogique  : Pr.AZAAR Khalid            :  k.azaar@uae.ac.ma\t\t\t\t                            \n",
      "LST: Génie Electrique Option: GénieElectrique & Système Industriel\n",
      "\n",
      "Coordinnateur pédagogique : Pr. Mekrini Zineb            :  zmekrini@uae.ac.ma\t\t\t\t                            \n",
      "LST : Génie Industriel\n",
      "\n",
      "Coordinnateur pédagogique  : Pr.Hassan El M’rabet             : helmramet@uae.ac.ma\t\t\t\t                            \n",
      "LST: Génie Informatique\n",
      "\n",
      "Coordinnateur pédagogique  : Pr.Boudhir Anouar Abdelhakim             : aboudhir@uae.ac.ma\t\t\t\t                            \n",
      "LST: Géosciences Appliquées\n",
      "\n",
      "Coordinnateur pédagogique : Pr.Wahbi Miriam           :  mwahbi@uae.ac.ma\t\t\t\t                            \n",
      "LST : Ingénierie de développement d’applications informatiques\n",
      "\n",
      "Coordinnateur : Pr.KOUNAIDI Mohamed             :  m.kounaidi@@uae.ac.ma\t\t\t\t                            \n",
      "LST: Ingénierie Statistique\n",
      "\n",
      "Coordinnateur pédagogique : Pr.El Merzguioui Mhamed             :  melmerzguioui@uae.ac.ma\t\t\t\t                            \n",
      "LST: Mathématiques et Applications\n",
      "\n",
      "Coordinnateur pédagogique : Pr.Lahrouz Adil           :  a.lahrouz1@uae.ac.ma\t\t\t\t                            \n",
      "LST : Mathématiques et Informatique Décisionnelles\n",
      "\n",
      "Coordinnateur : Pr.LAHROUZ Adil             :  a.lahrouz@uae.ac.ma\t\t\t\t                            \n",
      "LST: Risques et Ressources Naturels\n",
      "\n",
      "Coordinnateur : Pr.Bouzid Saida              : sbouzid@uae.ac.ma\t\t\t\t                            \n",
      "LST : Statistique et Science des données\n",
      "\n",
      "Coordinnateur : Pr.EL MERZGUIOUI Mhamed             :  melmerzguioui@uae.ac.ma\t\t\t\t                            \n",
      "LST: Techniques d’Analyses Chimiques\n",
      "\n",
      "Coordinnateur pédagogique  : Pr.Chabbi Mohamed            :  Jbilou Mohammed\t\t\t\t                            \n"
     ]
    }
   ],
   "source": [
    "dicts_list = [] \n",
    "for i, url in enumerate(urls[4:21]):\n",
    "    result = requests.get(url, headers=headers)\n",
    "    doc = BeautifulSoup(result.text, 'html.parser', from_encoding='utf-8')\n",
    "    content_div = doc.find_all(name='div',attrs={'class':'clearfix eael-tab-content-item inactive'})\n",
    "    formation_name = doc.find_all(name='h2',attrs={'class':'elementor-heading-title elementor-size-default'})[0].text\n",
    "    print(formation_name)\n",
    "    objectif = content_div[0].text\n",
    "    semesters = [semster.text for semster in content_div[1].find_all(name='th')]\n",
    "    module = [[item.strip() for item in module.text.split('•') if item != ''] for module in content_div[1].find_all(name='td')]\n",
    "    competence = content_div[2].text\n",
    "    if i != 16:\n",
    "        email_coord = re.findall(r'\\b[A-Za-z0-9._%+-]+@@?[A-Za-z0-9.-]+\\.[A-Z|a-z]{2,7}\\b',content_div[3].text)[0]\n",
    "    else:\n",
    "        email_coord = 'mchabbi@uae.ac.ma'\n",
    "    print(content_div[3].text)\n",
    "    if i in [0, 10, 13, 14, 15]:\n",
    "        name_coord = re.findall(r\"Coordinnateur\\s*:\\s*(Pr\\.\\s*\\w+ \\w+)\",content_div[3].text)[0]#\n",
    "    else:\n",
    "        name_coord = re.findall(r\"Coordinnateur pédagogique\\s*:\\s*(Pr\\.\\s*\\w+ \\w+)\",content_div[3].text)[0]\n",
    "    dicts_list.append({\n",
    "        'formation': formation_name,\n",
    "        'objectif': objectif,\n",
    "        'semesters': {semesters[i]: {f'Module {j+1}': module[i][j] for j in range(len(module[i]))} for i in range(len(semesters))},\n",
    "        'competence': competence,\n",
    "        'email_coord': email_coord,\n",
    "        'name_coord': name_coord\n",
    "    })\n",
    "deust_json = {'Licence': dicts_list}\n",
    "with open('Licence.json', 'w', encoding='utf-8') as f:\n",
    "    json.dump(deust_json, f,ensure_ascii=False, indent=4)"
   ]
  },
  {
   "cell_type": "markdown",
   "metadata": {},
   "source": [
    "## Master"
   ]
  },
  {
   "cell_type": "code",
   "execution_count": 4,
   "metadata": {},
   "outputs": [
    {
     "data": {
      "text/plain": [
       "['https://fstt.ac.ma/Portail2023/mst-analyse-appliquee-etingenierie-statistique/',\n",
       " 'https://fstt.ac.ma/Portail2023/mst-bases-cellulaires-etmoleculaires-en-biotechnologie/',\n",
       " 'https://fstt.ac.ma/Portail2023/mst-environnement-aquacultureet-developpement-durable/',\n",
       " 'https://fstt.ac.ma/Portail2023/mst-georessources-energetiques-et-reservoirs/',\n",
       " 'https://fstt.ac.ma/Portail2023/mst-genie-civil/',\n",
       " 'https://fstt.ac.ma/Portail2023/mst-genie-des-materiaux-pour-plasturgie-et-metallurgie/',\n",
       " 'https://fstt.ac.ma/Portail2023/mst-genie-energetique/',\n",
       " 'https://fstt.ac.ma/Portail2023/mst-ingenierie-environnementale-changement-climatique-et-developpement-durable/',\n",
       " 'https://fstt.ac.ma/Portail2023/mst-intelligence-artificielle-et-sciences-de-donnees/',\n",
       " 'https://fstt.ac.ma/Portail2023/mst-mobiquite-et-big-data/',\n",
       " 'https://fstt.ac.ma/Portail2023/mst-modelisation-mathematique-et-science-de-donnees/',\n",
       " 'https://fstt.ac.ma/Portail2023/mst-sciences-agroalimentaires/',\n",
       " 'https://fstt.ac.ma/Portail2023/mst-sciences-delenvironnement/',\n",
       " 'https://fstt.ac.ma/Portail2023/mst-sciences-du-littoralapproche-pluridisciplinaire/',\n",
       " 'https://fstt.ac.ma/Portail2023/mst-securite-it-et-big-data/',\n",
       " 'https://fstt.ac.ma/Portail2023/mst-systemes-informatiqueset-mobiles/']"
      ]
     },
     "execution_count": 4,
     "metadata": {},
     "output_type": "execute_result"
    }
   ],
   "source": [
    "urls[21:37]"
   ]
  },
  {
   "cell_type": "code",
   "execution_count": 12,
   "metadata": {},
   "outputs": [
    {
     "name": "stdout",
     "output_type": "stream",
     "text": [
      "MST : Analyse Appliquée etIngénierie Statistique\n",
      "\n",
      "Coordinnateur pédagogique  : Pr.EL HALIMI Rachid          :  r.elhalimi@uae.ac.ma\t\t\t\t                            \n",
      "MST : Bases Cellulaires et Moléculaires en Biotechnologie\n",
      "\n",
      "Coordinnateur pédagogique : Pr.Mohamed NHIRI             :  mnhiri@uae.ac.ma\t\t\t\t                            \n",
      "MST : Environnement, Aquacultureet Développement Durable\n",
      "\n",
      "Coordinnateur pédagogique : Pr.Hassan Er-RAIOUI             :  h.erraioui@fstt.ac.ma\t\t\t\t                            \n",
      "MST : Géoressources Énergétiques et Réservoirs\n",
      "\n",
      "Coordinnateur pédagogique : Pr.Mohamed Najib ZAGHLOUL             :  mzaghloul@uae.ac.ma\t\t\t\t                            \n",
      "MST : Génie Civil\n",
      "\n",
      "Coordinnateur pédagogique : Pr.Dkiouak Rachid            :  r.dkiouak@uae.ac.ma\t\t\t\t                            \n",
      "MST : Génie des Matériaux pour Plasturgie et Métallurgie\n",
      "\n",
      "Coordinnateur pédagogique : Pr.Tarik CHAFIK            :  tchafik@uae.ac.ma\t\t\t\t                            \n",
      "MST : Génie Energétique\n",
      "\n",
      "Coordinnateur pédagogique : Pr.Abdessalam DRAOUI            :  adraoui@uae.ac.ma\t\t\t\t                            \n",
      "MST : Ingénierie Environnementale, Changement Climatique et Développement Durable\n",
      "\n",
      "Coordinnateur pédagogique : Pr.HOUDA EL AYADI          :  h.elayadi@uae.ac.ma\t\t\t\t                            \n",
      "MST : Intelligence Artificielle et Sciences de Données\n",
      "\n",
      "Coordinnateur pédagogique  : Pr.EZZIYYANI MOSTAFA          :  mezziyyani@uae.ac.ma\t\t\t\t                            \n",
      "MST : Mobiquité et Big Data\n",
      "\n",
      "Coordinnateur pédagogique : Pr.Mohamed BEN AHMED             :  mbenahmed@uae.ac.ma\t\t\t\t                            \n",
      "MST : Modélisation Mathématique et Science de Données\n",
      "\n",
      "Coordinnateur pédagogique  : Pr.EL HALIMI Rachid        :  r.elhalimi@uae.ac.ma\t\t\t\t                            \n",
      "MST : Sciences Agroalimentaires\n",
      "\n",
      "Coordinnateur pédagogique  : Pr.Amin LAGLAOUI            :  alaglaoui@uae.ac.ma\t\t\t\t                            \n",
      "MST : Sciences de l’Environnement\n",
      "\n",
      "Coordinnateur Pédagogique : Pr.A.El Arrim            :  a.elarrim@uae.ac.ma \n",
      "MST : Sciences du Littoral:Approche Pluridisciplinaire\n",
      "\n",
      "Coordinnateur pédagogique : Pr.Maatouk Mustapha            :  mmaatouk@uae.ac.ma\t\t\t\t                            \n",
      "MST : Sécurité IT et Big Data\n",
      "\n",
      "Coordinnateur pédagogique  : Pr.Abdelhamid ZOUHAIR\t        :  mstsit.bd@gmail.com\t\t\t\t                            \n",
      "MST : Systèmes Informatiqueset Mobiles\n",
      "\n",
      "Coordinnateur pédagogique: Pr.El Amrani Chaker           :  celamrani@uae.ac.ma\t\t\t\t                            \n"
     ]
    }
   ],
   "source": [
    "dicts_list = [] \n",
    "for i, url in enumerate(urls[21:37]):\n",
    "    result = requests.get(url, headers=headers)\n",
    "    doc = BeautifulSoup(result.text, 'html.parser', from_encoding='utf-8')\n",
    "    content_div = doc.find_all(name='div',attrs={'class':'clearfix eael-tab-content-item inactive'})\n",
    "    formation_name = doc.find_all(name='h2',attrs={'class':'elementor-heading-title elementor-size-default'})[0].text\n",
    "    print(formation_name)\n",
    "    objectif = content_div[0].text\n",
    "    semesters = [semster.text for semster in content_div[1].find_all(name='th')]\n",
    "    module = [[item.strip() for item in module.text.split('•') if item != ''] for module in content_div[1].find_all(name='td')]\n",
    "    competence = content_div[2].text\n",
    "    email_coord = re.findall(r'\\b[A-Za-z0-9._%+-]+@@?[A-Za-z0-9.-]+\\.[A-Z|a-z]{2,7}\\b',content_div[3].text)[0]\n",
    "    print(content_div[3].text)\n",
    "    if i == 12:\n",
    "        name_coord = 'Pr.A.El Arrim'\n",
    "    else:\n",
    "        name_coord = re.findall(r\"Coordinnateur pédagogique\\s*:\\s*(Pr\\.\\s*\\w+ \\w+)\",content_div[3].text)[0]\n",
    "    dicts_list.append({\n",
    "        'formation': formation_name,\n",
    "        'objectif': objectif,\n",
    "        'semesters': {semesters[i]: {f'Module {j+1}': module[i][j] for j in range(len(module[i]))} for i in range(len(semesters))},\n",
    "        'competence': competence,\n",
    "        'email_coord': email_coord,\n",
    "        'name_coord': name_coord\n",
    "    })\n",
    "deust_json = {'Master': dicts_list}\n",
    "with open('Master.json', 'w', encoding='utf-8') as f:\n",
    "    json.dump(deust_json, f,ensure_ascii=False, indent=4)"
   ]
  },
  {
   "cell_type": "markdown",
   "metadata": {},
   "source": [
    "## Cycle d'ingénieur"
   ]
  },
  {
   "cell_type": "code",
   "execution_count": 13,
   "metadata": {},
   "outputs": [
    {
     "data": {
      "text/plain": [
       "['https://fstt.ac.ma/Portail2023/genie-electrique-et-managementindustriel/',\n",
       " 'https://fstt.ac.ma/Portail2023/di-genie-industriel/',\n",
       " 'https://fstt.ac.ma/Portail2023/di-geoinformation/',\n",
       " 'https://fstt.ac.ma/Portail2023/di-logiciels-et-systemes-intelligents/']"
      ]
     },
     "execution_count": 13,
     "metadata": {},
     "output_type": "execute_result"
    }
   ],
   "source": [
    "urls[37:]"
   ]
  },
  {
   "cell_type": "code",
   "execution_count": 15,
   "metadata": {},
   "outputs": [
    {
     "name": "stdout",
     "output_type": "stream",
     "text": [
      "DI:Génie Electrique et ManagementIndustriel\n",
      "\n",
      "Coordinnateur pédagogique  : Pr. Ibrahim HADJ BARAKA           :  ihadjbaraka@uae.ac.ma \n",
      "DI : Génie Industriel\n",
      "\n",
      "Coordinnateur pédagogique : Pr. Zoubir ELFELSOUFI             :  zefelsoufi@uae.ac.ma\t\t\t\t                            \n",
      "DI: Géoinformation\n",
      "\n",
      "Coordinnateur pédagogique : Pr.Jamal Eddine EL ABDELLAOUI           :  j.elabdellaoui@uae.ac.ma\t\t\t\t                            \n",
      "DI: Logiciels et Systèmes Intelligents\n",
      "\n",
      "Coordinnateur pédagogique : Pr.Lotfi EL AACHAK            :  lelaachak@uae.ac.ma\t\t\t\t                            \n"
     ]
    }
   ],
   "source": [
    "dicts_list = [] \n",
    "for i, url in enumerate(urls[37:]):\n",
    "    result = requests.get(url, headers=headers)\n",
    "    doc = BeautifulSoup(result.text, 'html.parser', from_encoding='utf-8')\n",
    "    content_div = doc.find_all(name='div',attrs={'class':'clearfix eael-tab-content-item inactive'})\n",
    "    formation_name = doc.find_all(name='h2',attrs={'class':'elementor-heading-title elementor-size-default'})[0].text\n",
    "    print(formation_name)\n",
    "    objectif = content_div[0].text\n",
    "    semesters = [semster.text for semster in content_div[1].find_all(name='th')]\n",
    "    module = [[item.strip() for item in module.text.split('•') if item != ''] for module in content_div[1].find_all(name='td')]\n",
    "    competence = content_div[2].text\n",
    "    email_coord = re.findall(r'\\b[A-Za-z0-9._%+-]+@@?[A-Za-z0-9.-]+\\.[A-Z|a-z]{2,7}\\b',content_div[3].text)[0]\n",
    "    print(content_div[3].text)\n",
    "    name_coord = re.findall(r\"Coordinnateur pédagogique\\s*:\\s*(Pr\\.\\s*\\w+ \\w+)\",content_div[3].text)[0]\n",
    "    dicts_list.append({\n",
    "        'formation': formation_name,\n",
    "        'objectif': objectif,\n",
    "        'semesters': {semesters[i]: {f'Module {j+1}': module[i][j] for j in range(len(module[i]))} for i in range(len(semesters))},\n",
    "        'competence': competence,\n",
    "        'email_coord': email_coord,\n",
    "        'name_coord': name_coord\n",
    "    })\n",
    "deust_json = {'Cycle d\\'ingénieur': dicts_list}\n",
    "with open('Cycle d\\'ingénieur.json', 'w', encoding='utf-8') as f:\n",
    "    json.dump(deust_json, f,ensure_ascii=False, indent=4)"
   ]
  },
  {
   "cell_type": "markdown",
   "metadata": {},
   "source": [
    "## Formation continue"
   ]
  },
  {
   "cell_type": "code",
   "execution_count": 1,
   "metadata": {},
   "outputs": [],
   "source": [
    "urls_continue = [\n",
    "    'https://formation-continue.ma/index.php/formation-continue/dca/184-automatismes-industriels-avances',\n",
    "    'https://formation-continue.ma/index.php/formation-continue/dca/183-ingenierie-civil-et-gestion-des-projets-de-b-t-p',\n",
    "    'https://formation-continue.ma/index.php/formation-continue/dca/182-ingenierie-de-la-maintenance-industrielle',\n",
    "    'https://formation-continue.ma/index.php/formation-continue/dca/181-ingenierie-du-batiment',\n",
    "    'https://formation-continue.ma/index.php/formation-continue/dca/180-ingenierie-topographique-et-systemes-d-information-geographiques-appliques',\n",
    "    'https://formation-continue.ma/index.php/formation-continue/dca/177-ingenierie-du-batiment',\n",
    "    'https://formation-continue.ma/index.php/formation-continue/dcess/190-ingenierie-et-expertise-en-bathymetrie-et-topographie',\n",
    "    'https://formation-continue.ma/index.php/formation-continue/dcess/189-ingenierie-et-expertise-genie-civil',\n",
    "    'https://formation-continue.ma/index.php/formation-continue/dcess/188-ingenierie-et-management-des-systemes-industriels',\n",
    "    'https://formation-continue.ma/index.php/formation-continue/dcess/187-ingenierie-et-management-industriel',\n",
    "    'https://formation-continue.ma/index.php/formation-continue/dcess/186-geomatique-appliquee-au-developpement-durable',\n",
    "    'https://formation-continue.ma/index.php/formation-continue/dcess/185-management-de-la-qualite-et-excellence-operationnelle',\n",
    "    'https://formation-continue.ma/index.php/component/sobipro/168-building-information-modeling-b-i-m-sous-le-logiciel-revit?Itemid=0'\n",
    "]"
   ]
  },
  {
   "cell_type": "markdown",
   "metadata": {},
   "source": [
    "## DCA"
   ]
  },
  {
   "cell_type": "code",
   "execution_count": 37,
   "metadata": {},
   "outputs": [],
   "source": [
    "result = requests.get('https://formation-continue.ma/index.php/formation-continue/dca/181-ingenierie-du-batiment', headers=headers)\n",
    "doc = BeautifulSoup(result.text, 'html.parser', from_encoding='utf-8')"
   ]
  },
  {
   "cell_type": "code",
   "execution_count": 38,
   "metadata": {},
   "outputs": [
    {
     "data": {
      "text/plain": [
       "\"La formation de spécialistes techniques dans le domaine des études des projets de construction de bâtiment en béton armé ou charpente métallique en partant de la conception jusqu'à l'exécution et en passant par toutes les étapes du projet à savoir depuis la phase d'avant-projet sommaire jusqu'à la phase de production des plans d'exécution des ouvrages e le suivi de la réalisation. Les domaines de compétences que les lauréats seront en mesures de suivre vont de 1'étude du simple projet d'un bâtiment jusqu'aux projets faisant appel à des conceptions structurales beaucoup plus complexe, aéroport, hôpitaux, complexe immobilier et commerciaux… etc.\""
      ]
     },
     "execution_count": 38,
     "metadata": {},
     "output_type": "execute_result"
    }
   ],
   "source": [
    "try:\n",
    "    obj = doc.select(f'div.spField label[for=\"Objectif de la formation\"]')[0].findNext('div').text\n",
    "except:\n",
    "    obg = 'Non Spécifié'\n",
    "obj"
   ]
  },
  {
   "cell_type": "code",
   "execution_count": 39,
   "metadata": {},
   "outputs": [
    {
     "data": {
      "text/plain": [
       "'Les lauréats des établissements universitaires publics ou privé au Maroc ou à l’étranger, les fonctionnaires des administrations et les employés du secteur privé, les auto entrepreneurs …etc.'"
      ]
     },
     "execution_count": 39,
     "metadata": {},
     "output_type": "execute_result"
    }
   ],
   "source": [
    "try:\n",
    "    public = doc.select(f'div.spField label[for=\"Public concerné\"]')[0].findNext('div').text\n",
    "except:\n",
    "    public = 'Aucune information'\n",
    "public"
   ]
  },
  {
   "cell_type": "code",
   "execution_count": 40,
   "metadata": {},
   "outputs": [
    {
     "data": {
      "text/plain": [
       "'\\n\\n\\n\\n\\nModule\\n\\n\\nEléments de module \\n\\n\\n\\n\\n1- Résistance des Matériaux\\n\\n\\n\\xa0\\n\\n\\n\\n\\n2-Béton armé\\n\\n\\nElément 1 : Béton armé aux états limites Elément 2 : Bâtiment à ossature en béton armé\\n\\n\\n\\n\\n3-construction métalliques\\n\\n\\nElément 1 : Eurocode 3\\nElément 2 : Bâtiment à ossature métallique\\n\\n\\n\\n\\n4-Economie de la construction et planification\\n\\n\\nElément 1 : métré et étude de prix\\nElément 2 : Programmation et planification des projets\\n\\n\\n\\n\\n5-B.I.M par logiciel \\xa0\\xa0REVIT et ROBOT\\n\\n\\nElément 1 : logiciel REVIT\\nElément 2 : logiciel ROBOT STRUCTURAL ANALYSIS\\n\\n\\n\\n\\n8-Projet de fin d’étude\\n\\n\\n\\xa0\\n\\xa0\\n\\n\\n\\n\\n\\xa0'"
      ]
     },
     "execution_count": 40,
     "metadata": {},
     "output_type": "execute_result"
    }
   ],
   "source": [
    "try:\n",
    "    program = doc.select(f'div.spField label[for=\"Programme\"]')[0].findNext('div').text\n",
    "except:\n",
    "    program = 'Aucune information'\n",
    "program"
   ]
  },
  {
   "cell_type": "code",
   "execution_count": 41,
   "metadata": {},
   "outputs": [
    {
     "data": {
      "text/plain": [
       "'Coût total de la formation\\xa0: 25.000 Dhs TTC (payables par tranches).'"
      ]
     },
     "execution_count": 41,
     "metadata": {},
     "output_type": "execute_result"
    }
   ],
   "source": [
    "try:\n",
    "    cout = doc.select(f'div.spField label[for=\"Coût de la formation\"]')[0].findNext('div').text\n",
    "except:\n",
    "    cout = 'Non spécifié'\n",
    "cout"
   ]
  },
  {
   "cell_type": "code",
   "execution_count": 42,
   "metadata": {},
   "outputs": [
    {
     "data": {
      "text/plain": [
       "\"A l'Issu de cette formation les lauréats peuvent s'impliquer, entre autres, dans les domaines suivants :\\n\\nLa maîtrise d'ouvrage et l'assistance à la maîtrise d'ouvrage : il s'agit de métiers en pleine expansion, dans le secteur public et dans le secteur privé, qui nécessitent des connaissances et des savoir-faire éprouvés dans le domaine des bâtiments en béton armé ou métalliques.\\nLa conception et la maîtrise d'oeuvre, dans les bureaux d'études privés et dans le secteur public (état ou collectivités locales) disposant d’ingénierie intégrée.\\nLa construction des bâtiments à ossatures en béton armé ou métalliques qui est un métier historique du génie civil s'exerce dans le secteur public (activités en régie) et essentiellement dans les entreprises privées il fait appel à des compétences techniques basées sur la connaissance conceptuelle des ouvrages à structure en béton armé ou métallique.\\nL'expertise qui vient en appui des métiers précédents et qui fait appel\\n\""
      ]
     },
     "execution_count": 42,
     "metadata": {},
     "output_type": "execute_result"
    }
   ],
   "source": [
    "try:\n",
    "    debouches = doc.select(f'div.spField label[for=\"Débouchés\"]')[0].findNext('div').text\n",
    "except:\n",
    "    debouches = 'Non spécifié'\n",
    "debouches"
   ]
  },
  {
   "cell_type": "code",
   "execution_count": 45,
   "metadata": {},
   "outputs": [
    {
     "data": {
      "text/plain": [
       "'Ingénierie du Bâtiment'"
      ]
     },
     "execution_count": 45,
     "metadata": {},
     "output_type": "execute_result"
    }
   ],
   "source": [
    "formation_name = doc.select('div.SPDetailEntry h1')[0].text\n",
    "formation_name"
   ]
  },
  {
   "cell_type": "code",
   "execution_count": 51,
   "metadata": {},
   "outputs": [
    {
     "name": "stderr",
     "output_type": "stream",
     "text": [
      "c:\\Users\\ah-ma\\Desktop\\Samashi\\Studying\\Master\\S2\\SMA & NLP\\NLP - Pr Lotfi El Aachak\\Project\\FSTT-LLM-Chat-Bot\\.venv\\lib\\site-packages\\bs4\\__init__.py:228: UserWarning: You provided Unicode markup but also provided a value for from_encoding. Your from_encoding will be ignored.\n",
      "  warnings.warn(\"You provided Unicode markup but also provided a value for from_encoding. Your from_encoding will be ignored.\")\n"
     ]
    }
   ],
   "source": [
    "dicts_list = []\n",
    "for url in urls_continue:\n",
    "    result = requests.get(url, headers=headers)\n",
    "    doc = BeautifulSoup(result.text, 'html.parser', from_encoding='utf-8')\n",
    "    formation_name = doc.select('div.SPDetailEntry h1')[0].text\n",
    "    try:\n",
    "        obj = doc.select(f'div.spField label[for=\"Objectif de la formation\"]')[0].findNext('div').text\n",
    "    except:\n",
    "        obg = 'Non Spécifié'\n",
    "    try:\n",
    "        public = doc.select(f'div.spField label[for=\"Public concerné\"]')[0].findNext('div').text\n",
    "    except:\n",
    "        public = 'Aucune information'\n",
    "    try:\n",
    "        program = doc.select(f'div.spField label[for=\"Programme\"]')[0].findNext('div').text\n",
    "    except:\n",
    "        program = 'Aucune information'\n",
    "    try:\n",
    "        cout = doc.select(f'div.spField label[for=\"Coût de la formation\"]')[0].findNext('div').text\n",
    "    except:\n",
    "        cout = 'Non spécifié'\n",
    "    try:\n",
    "        debouches = doc.select(f'div.spField label[for=\"Débouchés\"]')[0].findNext('div').text\n",
    "    except:\n",
    "        debouches = 'Non spécifié'\n",
    "    dicts_list.append({\n",
    "        'formation': formation_name,\n",
    "        'objectif': obj,\n",
    "        'Public Concerné': public,\n",
    "        'Programme': {},\n",
    "        'Coût de la formation': cout,\n",
    "        'Débouchés': debouches,\n",
    "        'email_coord': '',\n",
    "        'name_coord': ''\n",
    "    })\n",
    "continue_json = {'Formation Continue': dicts_list}\n",
    "with open('Formation Continue.json', 'w', encoding='utf-8') as f:\n",
    "    json.dump(continue_json, f,ensure_ascii=False, indent=4)"
   ]
  },
  {
   "cell_type": "code",
   "execution_count": 50,
   "metadata": {},
   "outputs": [
    {
     "data": {
      "text/plain": [
       "[{'formation': 'AUTOMATISMES INDUSTRIELS AVANCÉS',\n",
       "  'objectif': '\\xa0Objectifs Général\\xa0de la Formation :\\xa0\\n\\nCette formation prépare les étudiants et salariés opérationnels dans le secteur de la maintenance industrielle ou la production, aux systèmes de production automatisée.\\xa0\\nLa formation traite particulièrement les systèmes de commande réalisés par différentes solutions technologiques.\\n\\nObjectifs Spécifiques de la Formation :\\xa0\\n\\nFormer des techniciens sur la partie commande d’un système de production piloté par automates programmables.\\nMaitriser la programmation des automates programmables et composants annexes.\\xa0\\nFormer des techniciens capables d’intervenir sur les systèmes automatisés en vue de conduite ou de maintenance.\\n',\n",
       "  'Public Concerné': '\\nTechniciens à la recherche d’une spécialisation pour faciliter leur insertion dans le monde industriel,\\nTechniciens opérationnels à la recherche d’une mise à niveau de leurs connaissances techniques pour pouvoir répondre aux exigences de leur fonction face aux progrès technologiques,\\nSalariés du milieu industriel désirant diversifier leur connaissance pour une réinsertion et développement de carrière.\\n',\n",
       "  'Programme': {},\n",
       "  'Coût de la formation': 'Non spécifié',\n",
       "  'Débouchés': 'Non spécifié',\n",
       "  'email_coord': '',\n",
       "  'name_coord': ''},\n",
       " {'formation': 'Ingénierie Civil et Gestion des Projets de B.T.P',\n",
       "  'objectif': \"L'objectif de la formation continue proposée (DCA*), est de former des cadres capables de participer à la conception, à la maîtrise, à la réalisation et à la conduite des projets dans le domaine du bâtiment et des travaux publics\\xa0; tout en intégrant les facteurs techniques, économiques et humains de l’entreprise,\\xa0 depuis la préparation jusqu'à la livraison.\\xa0\",\n",
       "  'Public Concerné': 'Les conditions d’accès au\\xa0 DCA sont\\xa0:\\n\\nEtre titulaire d’un Bac+2 minimum dans le domaine scientifique, économique ou de gestion, de l’enseignement supérieur.\\n\\n\\nUne présélection sur la base du dossier,\\n\\n\\nUn entretien individuel.\\n',\n",
       "  'Programme': {},\n",
       "  'Coût de la formation': 'Coût total de la formation\\xa0: 25.000 Dhs Possibilité de paiement en deux tranches',\n",
       "  'Débouchés': 'Non spécifié',\n",
       "  'email_coord': '',\n",
       "  'name_coord': ''},\n",
       " {'formation': 'Ingénierie de la maintenance industrielle',\n",
       "  'objectif': \"\\xa01-Objectifs généraux :\\n\\xa0\\xa0\\xa0 La formation vise à repondre à un besoin en compétences scientifiques et techniques de heut niveau et ce dans le secteur industriel, national ou international en général, et régional particulier.\\n\\xa0\\xa0 En effet, compte tenu du développement croissant de la région du Nord du royaume, la demande en matiére de cadres et techniciens qualifiés dans diverses spécialitées ne cesse d'augmenter, c'est la raison pour laquelle cette formation est mise en place en vue de répondre en partie à cette demande.\\n2-Objectifs spécifiques :\\n\\xa0\\xa0 L'objectif vise à former des cadres, techniciens et techniciens supérieurs dans les techniques de maintenance des systèmes automatisés aisi que dans les fonctions d'organisation de la gestion de la maintenance, gestion de processus industriels, d'industrialisation de produits nouveaux, d'amélioration industrielle, de pilotage de la production, de conduite de projets industriels...\\n\\xa0\\xa0 La formation proposée a pour but de fournir aux candidats tous les éléments indispensables à son insertion harmonieuse dansle monde industriel. Les enseignements proposés associent théorie et techniques, expérimentation, projets et réalisation.\",\n",
       "  'Public Concerné': \"Le DCA <<Ingénieurie de la maintenance industrielle>> est ouvert :\\n\\nAux titulaires d'un DEUG, DEUT ou DEUP\\nAux titulaires d'un diplôme : Bac+2 délivré par les établissements publics ou privés relevant de l'enseignement supérieur\\nTout diplôme de niveau Bac+2 donné par les établissements de la\\xa0 formation professionnelle (ISTA)\\nA tout diplôme de niveau Bac+2 donné par les établissements accrédités par la formation professionnelle (accréditation exigée)\\nA tout diplôme étranger reconnu équivalent\\nAux personnels disposants d'une expérience profesionnelle (Les demandes pour la validations des Acquis de l'Experience seront exclusivement adressées à la CPU qui décidera de la recevabilité ou pas)\\n\",\n",
       "  'Programme': {},\n",
       "  'Coût de la formation': '25000 DH (avec facilité de paiement)',\n",
       "  'Débouchés': \"\\xa0\\xa0 Les titulaires de ce DCA peuvent s'engager directement dans la vie professionnelle à l'issue de leur scolarité.\\xa0\\xa0 Ils trouveront leur place au sein des services à compétences polyvalentes : industrie chimique, électricité, énergétique, informatique, mécanique, pétrole, réseaux, Technico-commercial...\\xa0\\xa0 Ils peuvent aussi occuper les fonctions de :\\n\\nResponsable de la maintenance et travaux neufs\\nResponsable de la gestion de production\\nPréparateur et responsable industrialisation\\nRésponsable de services techniques\\nTechnicien qualité des réseaux électriques\\n\",\n",
       "  'email_coord': '',\n",
       "  'name_coord': ''},\n",
       " {'formation': 'Ingénierie du Bâtiment',\n",
       "  'objectif': \"La formation de spécialistes techniques dans le domaine des études des projets de construction de bâtiment en béton armé ou charpente métallique en partant de la conception jusqu'à l'exécution et en passant par toutes les étapes du projet à savoir depuis la phase d'avant-projet sommaire jusqu'à la phase de production des plans d'exécution des ouvrages e le suivi de la réalisation. Les domaines de compétences que les lauréats seront en mesures de suivre vont de 1'étude du simple projet d'un bâtiment jusqu'aux projets faisant appel à des conceptions structurales beaucoup plus complexe, aéroport, hôpitaux, complexe immobilier et commerciaux… etc.\",\n",
       "  'Public Concerné': 'Les lauréats des établissements universitaires publics ou privé au Maroc ou à l’étranger, les fonctionnaires des administrations et les employés du secteur privé, les auto entrepreneurs …etc.',\n",
       "  'Programme': {},\n",
       "  'Coût de la formation': 'Coût total de la formation\\xa0: 25.000 Dhs TTC (payables par tranches).',\n",
       "  'Débouchés': \"A l'Issu de cette formation les lauréats peuvent s'impliquer, entre autres, dans les domaines suivants :\\n\\nLa maîtrise d'ouvrage et l'assistance à la maîtrise d'ouvrage : il s'agit de métiers en pleine expansion, dans le secteur public et dans le secteur privé, qui nécessitent des connaissances et des savoir-faire éprouvés dans le domaine des bâtiments en béton armé ou métalliques.\\nLa conception et la maîtrise d'oeuvre, dans les bureaux d'études privés et dans le secteur public (état ou collectivités locales) disposant d’ingénierie intégrée.\\nLa construction des bâtiments à ossatures en béton armé ou métalliques qui est un métier historique du génie civil s'exerce dans le secteur public (activités en régie) et essentiellement dans les entreprises privées il fait appel à des compétences techniques basées sur la connaissance conceptuelle des ouvrages à structure en béton armé ou métallique.\\nL'expertise qui vient en appui des métiers précédents et qui fait appel\\n\",\n",
       "  'email_coord': '',\n",
       "  'name_coord': ''},\n",
       " {'formation': \"Ingénierie topographique et systèmes d'information géographiques appliqués\",\n",
       "  'objectif': '\\xa0\\xa0 La formation continue DCA à pour objectif essentiel de former des cadres spécialistes en Topographie et Systèmes d’information Géographiques (SIG).(3ème promo)\\n\\xa0\\xa0 Cette formation vient répondre aux évolutions de l’administration publique, du monde industrielet du domaine de BTP qui connaissent une demande accrue de formation d’experts dans les différents domaines liés à la géomatique.\\n\\xa0\\xa0 Les lauréats auront la capacité de lecture de document cartographiques et la mise en exergue de la correspondance entre ces documents, d’établir tous plans et documents relevant de la géodésie, de la cartographie, de la topographie, des relevés cadastraux et de GPS. Les lauréats doivent également étre capables de traiter et gérer les donnés à référence spatiale et acquérir les compétences d’analyse et de prise de décision.',\n",
       "  'Public Concerné': \"\\xa0\\xa0 La formation s'adresse à des salariés ou non, titulaires d'un niveau Bac+2 minimum.\",\n",
       "  'Programme': {},\n",
       "  'Coût de la formation': '25000 DH (avec facilité de paiement)',\n",
       "  'Débouchés': '\\xa0\\xa0 Les diplomé du DCA pourront prétendre à des postes de responsables techniques dans diverses structures publiques et privées ou à une évolution et / ou réorientation de carrière\\n\\xa0\\xa0 La formation permettra également aux lauréats\\xa0:\\n\\nUne insertion rapide dans le monde du travail grace à l’acquisition de compétences en géomatique, notment en Topographie et SIG\\nItégrer les Bureaux d’études techniques et les laboratoires de BTP\\n',\n",
       "  'email_coord': '',\n",
       "  'name_coord': ''},\n",
       " {'formation': 'Lean Manufacturing et Amélioration Continue des Processus Industriels',\n",
       "  'objectif': \"La formation du Diplôme du Cycle d’Approfondissement (DCA) « Lean Manufacturing et Amélioration Continue des Processus Industriels » est une formation universitaire de niveau Licence Professionnelle Bac+3 qui vise à former des techniciens, des cadres intermédiaires et des spécialistes de terrain capables de conduire des projets d'amélioration continue des processus et procédés industriels, de participer à l’implantation de systèmes Lean et de piloter des projets transversaux d’amélioration continue, en les dotant d’outils et de méthodes opérationnels pour traiter des problèmes qui sont de nature technique, méthodologique, organisationnelle, managériale, économique et sociale quelle que soit la branche d’activité :automobile, aéronautique, agroalimentaire, transport, textile, mécanique, pharmaceutique, services....\\nLes compétences à acquérir donnent aux lauréats la capacité à :\\n\\ns’approprier les principes techniques et méthodologies de conception et d’amélioration des processus et procédés industriels selon la démarche du Lean Manufacturing ;\\nmaîtriser la pratique des outils Lean Manufacturing dans les activités d’amélioration continue de la qualité, de la production, de la logistique globale et de la maintenance;\\nutiliser les méthodes et outils du Lean Manufacturing et d’amélioration (PDCA, Kaizen,Les MUDA, 5S, Value Stream Mapping (VSM), SMED, TPM)\\ndiagnostiquer, analyser et améliorer les flux de production et de logistique.\\nparticiper et coordonner la mise en œuvre de plans de performances opérationnelles et d'amélioration continue ;\\n\",\n",
       "  'Public Concerné': 'Cette formation s’adresse à des diplômés de l’enseignement supérieur public ou privé, en situation d’activité salariée ou non, qui recherchent une formation ou une double formation pour évoluer, satisfaire les besoins de l’entreprise et accéder à des postes de responsabilité ou pour trouver ou retrouver un emploi dans des postes très demandés.\\nEn effet, le dispositif mis en place s’attache, dans sa conception, à créer les conditions d’évolution et d’adaptation à de nouvelles fonctions, d’une insertion et d’une réinsertion professionnelle.\\nLe cycle est ouvert aux étudiants ou personnes titulaires d’un DEUG, DEUST, BTS, DUT,ISTA ou tout autre diplôme Bac+2 équivalent ou encore bac+3.',\n",
       "  'Programme': {},\n",
       "  'Coût de la formation': '22 500 Dh (avec facilités de paiement)',\n",
       "  'Débouchés': 'Les diplômés peuvent intégrer de nombreux secteurs industriels et de service.\\nQuelques exemples de métiers :\\n- technicien supérieur de conception et d’amélioration de processus,\\n- technicien méthodes ;\\n- animateur, coordinateur Lean ou amélioration continue,\\n- technicien méthodes en amélioration continue,\\n- assistant/responsable de production,\\n- assistant/responsable gestion des flux logistiques\\n- animateur, responsable qualité\\n- technicien, responsable maintenance\\n- responsable du service logistique industrielle\\n- responsables services méthodes et organisation industrielle\\n- responsable stocks et approvisionnement\\n- responsable service ordonnancement',\n",
       "  'email_coord': '',\n",
       "  'name_coord': ''},\n",
       " {'formation': 'Ingénierie et Expertise en Bathymétrie et Topographie',\n",
       "  'objectif': 'Vu que la Région Tanger Tétouan Al Hoceima jouit de deux façades maritimes et la présence de plusieurs ouvrages afférents, la formation DCESS proposée, englobant un large spectre de thématiques liées à la Topographie terrestre et la topographie marine, notamment la bathymétrie, se veut un outil de convergence entre l’offre et le marché d’emploi qui sollicite actuellement des spécialistes et experts dans des filières pratiques\\xa0comme la Topographie et la Bathymétrie.',\n",
       "  'Public Concerné': 'La formation est ouverte à toute personne cherchant une insertion dans le marché de travail, ou bien cherchant une réinsertion ou ambitionne de se convertir dans sa vie professionnelle. Elle est dédiée aux demandeurs tel que : techniciens spécialisés en domaine maritime, aquaculture, Urbanistes, Aménageurs, Bureaux d’études (BTP, Topographie, VRD, Environnement, Architecture…), etc.',\n",
       "  'Programme': {},\n",
       "  'Coût de la formation': 'Non spécifié',\n",
       "  'Débouchés': \"Des débouchés de responsables techniques s’ouvrent devant les lauréats du DCESS en « Ingénierie et expertise en topographie marine et topographie terrestre » au sein des structures publiques et privées : Administrations publiques de l'Etat, Agences spécialisées, Organismes relevant de Ministères ayant une vocation maritime, Bureaux d'Etudes, toute activité ayant un pôle topographique et/ou Bathymétrique …\",\n",
       "  'email_coord': '',\n",
       "  'name_coord': ''},\n",
       " {'formation': 'Ingénierie et expertise génie civil',\n",
       "  'objectif': 'A la fin de la formation, le diplômé doit être capable de :\\n\\nRéaliser les calculs de ouvrages divers de génie civil en Béton, en charpente métallique & mixte)\\nRéaliser les calculs de VRD\\nRéaliser les travaux des laboratoires de génie civil\\nCoordonner des projets de génie civil\\nRéaliser des missions de contrôle technique\\xa0\\n',\n",
       "  'Public Concerné': '\\nEtre titulaires d’une licence scientifique, professionnelle (ou équivalent)ou plus\\nEtre titulaire d’un Bac+3 des établissements relevant de l’enseignement supérieur\\nEtre titulaire du DCA de l’Université Abdelmalek ESSAADI\\nEtre employé ayant 5 ans d’expérience professionnelle justifiée\\nUne présélection sur dossier et entretient individuel\\n\\nQuelques chiffres de la formation Ingénierie et Expertise Génie Civil\\n\\n\\n\\n\\n\\xa0\\n\\n% Ingénieurs\\n\\n\\n% Cadres moyens\\n\\n\\n% Étudiants\\n\\n\\n\\n\\n1ère Promotion\\n\\n\\n10%\\n\\n\\n65%\\n\\n\\n25%\\n\\n\\n\\n\\n2ème Promotion\\n\\n\\n20%\\n\\n\\n62%\\n\\n\\n28%\\n\\n\\n\\n\\n3ème Promotion\\n\\n\\n12%\\n\\n\\n60%\\n\\n\\n28%\\n\\n\\n\\n\\n4ème Promotion\\n\\n\\n40%\\n\\n\\n50%\\n\\n\\n10%\\n\\n\\n\\n\\n5ème Promotion\\n\\n\\n5%\\n\\n\\n80%\\n\\n\\n15%\\n\\n\\n\\n\\n',\n",
       "  'Programme': {},\n",
       "  'Coût de la formation': 'Coût total de la formation\\xa0: 35.000 Dhs Possibilité de paiement en trois tranches encaissables chaque 6 mois.',\n",
       "  'Débouchés': \"La formation proposée (DCESS spécialité Ingénierie & Expertise Génie Civil) permettra aux futures lauréats d'acquérir une formation généraliste du génie civil (bâtiment, VRD, géotechnique, matériaux de construction, calcul de structures, etc.).\\nLes diplômés pourront être, des responsables de projets, des concepteurs de projets, des coordonnateurs, des responsables qualité, des auditeurs, des contrôleurs de travaux et experts, dans différents secteurs d’activités\\xa0de génie civil : Bâtiment, VRD, Ouvrages d’arts, laboratoires de génie civil, Gestion & Management de projets, Qualité dans le BTP et services,.....\\nQuelques chiffres de la formation Ingénierie et Expertise Génie Civil\\n\\n\\n\\n\\xa0\\n\\nTaux d’insertion Professionnelle\\n\\n\\n\\n\\n1ère Promotion\\n\\n\\n100%\\n\\n\\n\\n\\n2ème Promotion\\n\\n\\n100%\\n\\n\\n\\n\\n3ème Promotion\\n\\n\\nNon encore établi à ce jour\\n\\n\\n\\n\\n4ème Promotion\\n\\n\\nNon encore établi à ce jour\\n\\n\\n\\n\\n5ème Promotion\\n\\n\\nNon encore établi à ce jour\\n\\n\\n\\n\",\n",
       "  'email_coord': '',\n",
       "  'name_coord': ''},\n",
       " {'formation': 'INGENIERIE ET MANAGEMENT DES SYSTEMES INDUSTRIELS',\n",
       "  'objectif': \"Le cycle des Etudes Supérieures Spécialisées en Ingénierie et Management des Systèmes Industriels, qui est un Bac+5, vient pour répondre aux évolutions de l’industrie régionale et nationale. En effet, un contexte industriel en pleine mutation, un besoin en cadres de grandes compétences de la conception jusqu’au contrôle métrologique en passant par la fabrication et le management d’équipes, justifie cette formation de haut niveau. Les objectifs de ce cycle sont\\xa0:\\n\\nêtre capable de faire une conception mécanique pour répondre à un cahier de charges en passant par les notices de calculs\\xa0;\\nMaitriser les différents procédés de fabrication mécanique\\xa0;\\nêtre capable de rédiger une gamme de fabrication pour un produit mécanique de l’industrie Automobile, Aéronautique et autres\\xa0;\\nêtre capable de faire le contrôle de qualité des produits mécaniques\\xa0; \\ndisposer de solides compétences dans les domaines des sciences et des technologies\\xa0;\\ndisposer d'un potentiel de créativité et d'innovation\\xa0;\\navoir des aptitudes à conduire, à maîtriser, à organiser et à faire évoluer des procédés et des processus industriels\\xa0;\\nêtre capable de conduire, de diriger et de réaliser des projets industriels\\xa0;\\nEtre préparé à une insertion et à une évolution professionnelle dans le domaine de conception, fabrication, contrôle métrologique et management des équipes dans le secteur de l’industrie automobile et aéronautique.\\n\",\n",
       "  'Public Concerné': 'Cette formation s’adresse aux diplômés en situation d’activité, salariés ou non, le dispositif mis en place s’attache, dans sa conception, à créer les conditions d’une insertion, d’une réinsertion professionnelle ou d’une adaptation à de nouvelles fonctions, notamment dans le secteur de l’Industrie automobile et aéronautique\\xa0; et celui de l’Industrie mécanique générale, Design et conception de nouveaux produits mais aussi le Management en entreprise.\\nLes candidats devront avoir acquis le niveau d’ingénieur, d’une maitrise, d’une licence, d’un DCA ou tout autre diplôme reconnu équivalent à Bac+3 mini.\\n\\xa0',\n",
       "  'Programme': {},\n",
       "  'Coût de la formation': '35\\xa0000,00 DH\\xa0: Pour les titulaires d’une Licence, en trois tranches\\xa0: 15.000,00\\xa0; 10.000,00 et 10.000,00 dh.\\r\\n20.000,00 DH\\xa0: Pour les titulaires d’un DCA de l’Université, en deux Tranches de 10.000,00 dh.',\n",
       "  'Débouchés': '\\nLes diplômés du DCESS en Ingénierie et Management des Systèmes Industriels pourront prétendre à des postes de responsable industriel dans les PME/PMI :\\n\\xa0\\n\\n\\xa0\\xa0\\xa0\\xa0\\xa0\\xa0\\xa0\\xa0 Responsable Bureau d’Études;\\n\\xa0\\xa0\\xa0\\xa0\\xa0\\xa0\\xa0\\xa0 Responsable Bureau de Méthodes;\\n\\xa0\\xa0\\xa0\\xa0\\xa0\\xa0\\xa0\\xa0 Responsable Outillage,Production;\\n\\xa0\\xa0\\xa0\\xa0\\xa0\\xa0\\xa0\\xa0 Manager,Chef deprojet,...etc.\\n\\n\\xa0',\n",
       "  'email_coord': '',\n",
       "  'name_coord': ''},\n",
       " {'formation': 'Ingénierie et Management Industriel',\n",
       "  'objectif': 'La formation DCESS\\xa0«\\xa0 Ingénierie et Management\\xa0 Industriel\\xa0» vise à former des cadres\\xa0 capables d’accompagner les collaborateurs vers les objectifs d’envergures en mettant en œuvre des qualités de relations humaines, de gestion d’équipe et de gestion de projet\\xa0;\\nLa grande variété des cours dispensés et leurs qualités permettent aux titulaires de ce diplôme d’occuper, de réussir et d’avoir les compétences pour\\xa0:\\n-\\xa0 Développer des compétences techniques pluridisciplinaires permettant aux lauréats d’intégrer les entreprises de production et de service\\xa0;\\n-\\xa0 Modéliser et concevoir une chaîne de production.\\n-\\xa0 Automatiser un processus de production.\\n-\\xa0\\xa0 Maîtriser les techniques de conception et de gestion des systèmes de production\\xa0;\\n-\\xa0 Acquérir des compétences scientifiques permettant aux lauréats de contribuer à l’amélioration des processus de fabrication\\xa0',\n",
       "  'Public Concerné': 'La formation DCESS «\\xa0ingénierie de la maintenance et management industriel\\xa0» est ouvert aux étudiants ou personnes titulaires d’une licence LEF, LP, LST\\xa0 ou\\xa0:\\n- \\xa0Tout diplôme de niveau bac+3 donné par les établissements privés relevant de l’enseignement supérieur ou tout diplôme étranger reconnu équivalent.\\n- \\xa0Titulaire du DCA de l’Université Abdelmalek Essaadi.\\n- \\xa0Les demandes pour la validation des Acquis de l’Expérience seront exclusivement adressées à la CPU qui décidera\\xa0 de la recevabilité ou pas.',\n",
       "  'Programme': {},\n",
       "  'Coût de la formation': '35 000Dhs  (avec facilité de paiement)',\n",
       "  'Débouchés': '-\\xa0\\xa0\\xa0\\xa0\\xa0 Cadre d’entreprise dans les domaines techniques notamment le personnel des services ingénierie, production et maintenance,\\n-\\xa0\\xa0\\xa0\\xa0\\xa0 Directeurs techniques\\n-\\xa0\\xa0\\xa0\\xa0\\xa0 Chargés d’affaires\\n-\\xa0\\xa0\\xa0\\xa0\\xa0 Responsables de nouveaux projets\\n-\\xa0\\xa0\\xa0\\xa0\\xa0 Responsable qualité\\n-\\xa0\\xa0\\xa0\\xa0\\xa0 Responsable du service ingénierie\\n-\\xa0\\xa0\\xa0\\xa0\\xa0 Consultant dans les domaines QHSE',\n",
       "  'email_coord': '',\n",
       "  'name_coord': ''},\n",
       " {'formation': 'Géomatique Appliquée au Développement Durable',\n",
       "  'objectif': 'Le domaine de la géomatique devient de plus en plus important dans le monde d\\'aujourd\\'hui en raison du besoin croissant de données spatiales et d\\'informations géographiques. La géomatique est un domaine multidisciplinaire qui englobe divers domaines tels que, la géodésie, la topographie, la cartographie classique et la cartographie en ligne (Web Mapping), la télédétection optique et Radar, la photogrammétrie, les bases de données spatiales et les systèmes d\\'information géographique. À mesure que la technologie progresse, de plus en plus d\\'industries utilisent la géomatique pour prendre des décisions éclairées et résoudre des problèmes complexes.\\nL’objectif principal de cette formation est de répondre à la demande de professionnels qualifiés dans ce domaine de géomatique, de combler l\\'écart et de fournir aux apprenants, qu\\'ils soient nouveaux ou expérimentés, une formation solide pour améliorer leurs compétences et leurs connaissances dans ce domaine aussi bien au niveau théorique que pratique.\\nL\\'objectif principal de ce programme de formation continue est de fournir une solide formation de base dans toutes les disciplines de la géomatique aux nouveaux utilisateurs des sciences de la géomatique. D\\'autre part, ce programme vise également à renforcer et à mettre à jour les connaissances et les compétences des apprenants ayant préalablement reçu une formation dans ce domaine. Par conséquent, ce programme est conçu pour être adapté aux professionnels de la géomatique débutants et expérimentés.\\nAfin d\\'atteindre cet objectif, non seulement les modules ont été sélectionnés avec soin, mais aussi les méthodes d\\'enseignement ont été bien pensées. Le choix des modules a été fait après avoir procédé à un diagnostic détaillé du marché de l\\'emploi et à une analyse comparative \"benchmarking\" de différents programmes proposés par des universités de très grande renommée.',\n",
       "  'Public Concerné': '\\nTechniciens ou cadres en cours de reconversion ;\\nJeunes diplômés à la recherche d’un premier emploi ;\\nSalariés dans le cadre de la formation professionnelle continue ;\\nEtudiants en cours de formation souhaitant compléter leur formation ou leur expérience. professionnelle par la maîtrise des outils spécifiques à l’information spatiale ;\\nCette formation s’adresse à un public en situation d’activité salariée ou non.\\n',\n",
       "  'Programme': {},\n",
       "  'Coût de la formation': 'Non spécifié',\n",
       "  'Débouchés': '\\nMise à niveau des professionnels dans le domaine de la géomatique\\nPréparer des candidats pour le marché du travail ou même ouvrir leurs propres bureaux d’études ;\\nIntégrer les organismes publics et semi-publics ;\\nRejoindre les sociétés de service en géomatique ;\\nTravailler chez les géomètres topographes ;\\nIntégrer les services de géomatique en collectivités territoriales ;\\nIntégrer les agences urbaines.\\n',\n",
       "  'email_coord': '',\n",
       "  'name_coord': ''},\n",
       " {'formation': 'Management de la Qualité et Excellence Opérationnelle',\n",
       "  'objectif': '«\\xa0Développez vos compétences et élargissez vos horizons professionnels\\xa0»\\nNotre formation en «\\xa0Management de la Qualité et Excellence Opérationnelle\\xa0», répond aux besoins évolutifs du monde industriel et des services. Assurée par des professeurs universitaires et des experts industriels, elle vise à offrir une perspective globale des systèmes industriels tout en développant des compétences transversales essentielles dans les métiers de\\xa0la qualité, de la logistique, de la supply chain en partant des systèmes d’information jusqu’au pilotage des systèmes industriels.',\n",
       "  'Public Concerné': \"Cette formation est ouverte à tous. Que vous soyez actuellement en poste ou en recherche d'emploi, cherchant à\\xa0:\\n·s'insérer dans le monde professionnel,\\n·se réintégrer après une pause\\n·s'adapter à de nouvelles fonctions au sein de leur entreprise.\\nUne détention d'un diplôme de niveau Bac+3 dans n'importe quelle discipline est préférable, bien que des dérogations puissent être envisagées.\",\n",
       "  'Programme': {},\n",
       "  'Coût de la formation': '35.000 Dhs ',\n",
       "  'Débouchés': \"En rejoignant notre programme, vous vous préparez à une variété d'opportunités professionnelles. Dans un monde industriel en constante évolution, il est essentiel d'avoir des experts capables de mener des analyses globales. En plus des postes traditionnels de responsabilité en conception, méthodes et production, de nouvelles fonctions transversales émergent. Nos diplômés en «\\xa0Management de la Qualité et Excellence Opérationnelle\\xa0» peuvent viser des rôles tels que :\\n·Responsable de l'Excellence Opérationnelle,\\n·Responsable de la Maintenance/Logistique,\\n·Responsable de la Production,\\n·Responsable de la Qualité,\\n·Chef de Projets, et bien plus encore, tant dans l'industrie que dans les services.\",\n",
       "  'email_coord': '',\n",
       "  'name_coord': ''},\n",
       " {'formation': 'Building Information Modeling (B.I.M) sous le logiciel Revit',\n",
       "  'objectif': \"Revit est un logiciel Autodesck pour la conception architecturale et structurale .Il permet de créer une maquette numérique 3D d'un bâtiment puis de créer divers documents nécessaires à sa construction (plan, perspective, ...). \\nLe logiciel permet de gérer autour de la maquette numérique 3D tous les documents entrant dans les compétences des différents acteurs de la construction tout au long du cycle de production d'un projet de construction : plans, détails, perspectives, imagerie de synthèse, métrés. Avec son concept de Virtual Building Revit innove dès sa création dans ce qu'il est convenu d'appeler les logiciels BIM ( Building Information Modeling ) .\\nLa méthodologie de la formation est basée sur la technique de l’apprentissage par l’exemple afin de permettre aux stagiaires d’acquérir rapidement les compétences de base nécessaires pour être immédiatement opérationnelle dans le domaine des projets de constructions.\",\n",
       "  'Public Concerné': 'Architecte, Projeteurs, Dessinateur , Métreur ,\\xa0Maitre d’Ouvrage , Maitre d’œuvre \\xa0les entreprises de BTP, les collectivités locales…Etc., débutants sur Revit',\n",
       "  'Programme': {},\n",
       "  'Coût de la formation': 'Non spécifié',\n",
       "  'Débouchés': 'Non spécifié',\n",
       "  'email_coord': '',\n",
       "  'name_coord': ''}]"
      ]
     },
     "execution_count": 50,
     "metadata": {},
     "output_type": "execute_result"
    }
   ],
   "source": [
    "dicts_list"
   ]
  },
  {
   "cell_type": "code",
   "execution_count": null,
   "metadata": {},
   "outputs": [],
   "source": []
  }
 ],
 "metadata": {
  "kernelspec": {
   "display_name": ".venv",
   "language": "python",
   "name": "python3"
  },
  "language_info": {
   "codemirror_mode": {
    "name": "ipython",
    "version": 3
   },
   "file_extension": ".py",
   "mimetype": "text/x-python",
   "name": "python",
   "nbconvert_exporter": "python",
   "pygments_lexer": "ipython3",
   "version": "3.10.11"
  }
 },
 "nbformat": 4,
 "nbformat_minor": 2
}
